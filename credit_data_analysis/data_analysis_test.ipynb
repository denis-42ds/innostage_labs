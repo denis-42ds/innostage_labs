{
 "cells": [
  {
   "cell_type": "markdown",
   "id": "5ea5ffae-ace9-4b96-9cac-a1ce8eb5003d",
   "metadata": {},
   "source": [
    "# Класс анализа кредитных данных\n",
    "**Цель**\n",
    "<br>Цель этого класса - анализ кредитных данных с использованием методов машинного обучения. \n",
    "\n",
    "<br>Включает функции \n",
    "  - загрузки набора данных,\n",
    "  - предварительной обработки категориальных признаков,\n",
    "  - разделения данных,\n",
    "  - масштабирования признаков,\n",
    "  - обучения модели и оценки ее производительности.\n",
    "\n",
    "<br>**Задание**\n",
    "<br>Написать класс CreditDataAnalysis\n",
    "\n",
    "<br>Методы\n",
    "- Инициализация __init__ : Инициализирует класс необходимыми атрибутами.\n",
    "- Загрузка и предобработка данных\n",
    "  - load_credit_dataset : Загружает набор данных 'credit-g'\n",
    "    <br>с использованием fetch_openml из scikit-learn.\n",
    "  - encode_data(encoder) : Преобразует все категориальные признаки в числовые\n",
    "    <br>значения с помощью указанного энкодера (LabelEncoder или OneHotEncoder).\n",
    "    <br>Удаляет старые признаки из self.data и добавляет преобразованные.\n",
    "- Подготовка данных\n",
    "  - split_data(test_size) : Разделяет набор данных на обучающую и тестовую выборки.\n",
    "- Масштабирование признаков\n",
    "  - scale_features(scaler) : Масштабирует признаки набора данных с использованием\n",
    "    <br>указанного метода масштабирования (по умолчанию: StandardScaler).\n",
    "- Обучение модели и оценка\n",
    "  - train_model(model) : Обучает модель машинного обучения на обучающих данных (по умолчанию: LogisticRegression).\n",
    "  - evaluate_model(metric) : Оценивает обученную модель на тестовых данных с использованием указанной метрики.\n",
    "- Сравнение эффекта масштабирования на производительность модели\n",
    "  - compare_scaling_effect(scaler, model, encoder, metric) :\n",
    "    <br>Сравнивает эффект масштабирования на производительность модели,\n",
    "    <br>обучая модель до и после масштабирования.\n",
    "    <br>Отображает точность до и после масштабирования, а также процент изменения эффекта масштабирования."
   ]
  },
  {
   "cell_type": "markdown",
   "id": "ef056fa2-e3f7-4adc-b54f-4600a4f580ec",
   "metadata": {},
   "source": [
    "## Импорт библиотек"
   ]
  },
  {
   "cell_type": "code",
   "execution_count": 1,
   "id": "edd8e27f-46f8-42ae-a685-87eb8171d335",
   "metadata": {},
   "outputs": [],
   "source": [
    "import pandas as pd\n",
    "\n",
    "from sklearn.datasets import fetch_openml\n",
    "from sklearn.preprocessing import StandardScaler, LabelEncoder, OneHotEncoder\n",
    "from sklearn.model_selection import train_test_split\n",
    "from sklearn.linear_model import LogisticRegression\n",
    "from sklearn.metrics import accuracy_score"
   ]
  },
  {
   "cell_type": "code",
   "execution_count": 2,
   "id": "1b3c5b1d-20f0-4d3b-b620-a66e5b2a938e",
   "metadata": {},
   "outputs": [],
   "source": [
    "# создание файла requirements.txt\n",
    "# !pipreqsnb data_analysis_test.ipynb"
   ]
  },
  {
   "cell_type": "markdown",
   "id": "2629ba92-f42d-464c-a02d-6dfb89b417ad",
   "metadata": {},
   "source": [
    "## Проверка без использования класса"
   ]
  },
  {
   "cell_type": "markdown",
   "id": "2e7bd00a-fc84-4a0c-bd6d-277676fd5fd6",
   "metadata": {},
   "source": [
    "### Загрузка набора данных"
   ]
  },
  {
   "cell_type": "code",
   "execution_count": 3,
   "id": "eae0068a-8f02-4ce7-ac3c-436e2b784228",
   "metadata": {},
   "outputs": [
    {
     "name": "stdout",
     "output_type": "stream",
     "text": [
      "<class 'pandas.core.frame.DataFrame'>\n",
      "RangeIndex: 1000 entries, 0 to 999\n",
      "Data columns (total 21 columns):\n",
      " #   Column                  Non-Null Count  Dtype   \n",
      "---  ------                  --------------  -----   \n",
      " 0   checking_status         1000 non-null   category\n",
      " 1   duration                1000 non-null   int64   \n",
      " 2   credit_history          1000 non-null   category\n",
      " 3   purpose                 1000 non-null   category\n",
      " 4   credit_amount           1000 non-null   float64 \n",
      " 5   savings_status          1000 non-null   category\n",
      " 6   employment              1000 non-null   category\n",
      " 7   installment_commitment  1000 non-null   int64   \n",
      " 8   personal_status         1000 non-null   category\n",
      " 9   other_parties           1000 non-null   category\n",
      " 10  residence_since         1000 non-null   int64   \n",
      " 11  property_magnitude      1000 non-null   category\n",
      " 12  age                     1000 non-null   int64   \n",
      " 13  other_payment_plans     1000 non-null   category\n",
      " 14  housing                 1000 non-null   category\n",
      " 15  existing_credits        1000 non-null   int64   \n",
      " 16  job                     1000 non-null   category\n",
      " 17  num_dependents          1000 non-null   int64   \n",
      " 18  own_telephone           1000 non-null   category\n",
      " 19  foreign_worker          1000 non-null   category\n",
      " 20  target                  1000 non-null   category\n",
      "dtypes: category(14), float64(1), int64(6)\n",
      "memory usage: 71.0 KB\n"
     ]
    },
    {
     "data": {
      "text/html": [
       "<div>\n",
       "<style scoped>\n",
       "    .dataframe tbody tr th:only-of-type {\n",
       "        vertical-align: middle;\n",
       "    }\n",
       "\n",
       "    .dataframe tbody tr th {\n",
       "        vertical-align: top;\n",
       "    }\n",
       "\n",
       "    .dataframe thead th {\n",
       "        text-align: right;\n",
       "    }\n",
       "</style>\n",
       "<table border=\"1\" class=\"dataframe\">\n",
       "  <thead>\n",
       "    <tr style=\"text-align: right;\">\n",
       "      <th></th>\n",
       "      <th>checking_status</th>\n",
       "      <th>duration</th>\n",
       "      <th>credit_history</th>\n",
       "      <th>purpose</th>\n",
       "      <th>credit_amount</th>\n",
       "      <th>savings_status</th>\n",
       "      <th>employment</th>\n",
       "      <th>installment_commitment</th>\n",
       "      <th>personal_status</th>\n",
       "      <th>other_parties</th>\n",
       "      <th>...</th>\n",
       "      <th>property_magnitude</th>\n",
       "      <th>age</th>\n",
       "      <th>other_payment_plans</th>\n",
       "      <th>housing</th>\n",
       "      <th>existing_credits</th>\n",
       "      <th>job</th>\n",
       "      <th>num_dependents</th>\n",
       "      <th>own_telephone</th>\n",
       "      <th>foreign_worker</th>\n",
       "      <th>target</th>\n",
       "    </tr>\n",
       "  </thead>\n",
       "  <tbody>\n",
       "    <tr>\n",
       "      <th>482</th>\n",
       "      <td>&lt;0</td>\n",
       "      <td>30</td>\n",
       "      <td>existing paid</td>\n",
       "      <td>furniture/equipment</td>\n",
       "      <td>3622.0</td>\n",
       "      <td>&gt;=1000</td>\n",
       "      <td>&gt;=7</td>\n",
       "      <td>4</td>\n",
       "      <td>female div/dep/mar</td>\n",
       "      <td>none</td>\n",
       "      <td>...</td>\n",
       "      <td>life insurance</td>\n",
       "      <td>57</td>\n",
       "      <td>none</td>\n",
       "      <td>rent</td>\n",
       "      <td>2</td>\n",
       "      <td>skilled</td>\n",
       "      <td>1</td>\n",
       "      <td>yes</td>\n",
       "      <td>yes</td>\n",
       "      <td>good</td>\n",
       "    </tr>\n",
       "    <tr>\n",
       "      <th>6</th>\n",
       "      <td>no checking</td>\n",
       "      <td>24</td>\n",
       "      <td>existing paid</td>\n",
       "      <td>furniture/equipment</td>\n",
       "      <td>2835.0</td>\n",
       "      <td>500&lt;=X&lt;1000</td>\n",
       "      <td>&gt;=7</td>\n",
       "      <td>3</td>\n",
       "      <td>male single</td>\n",
       "      <td>none</td>\n",
       "      <td>...</td>\n",
       "      <td>life insurance</td>\n",
       "      <td>53</td>\n",
       "      <td>none</td>\n",
       "      <td>own</td>\n",
       "      <td>1</td>\n",
       "      <td>skilled</td>\n",
       "      <td>1</td>\n",
       "      <td>none</td>\n",
       "      <td>yes</td>\n",
       "      <td>good</td>\n",
       "    </tr>\n",
       "    <tr>\n",
       "      <th>36</th>\n",
       "      <td>no checking</td>\n",
       "      <td>48</td>\n",
       "      <td>critical/other existing credit</td>\n",
       "      <td>education</td>\n",
       "      <td>6110.0</td>\n",
       "      <td>&lt;100</td>\n",
       "      <td>1&lt;=X&lt;4</td>\n",
       "      <td>1</td>\n",
       "      <td>male single</td>\n",
       "      <td>none</td>\n",
       "      <td>...</td>\n",
       "      <td>no known property</td>\n",
       "      <td>31</td>\n",
       "      <td>bank</td>\n",
       "      <td>for free</td>\n",
       "      <td>1</td>\n",
       "      <td>skilled</td>\n",
       "      <td>1</td>\n",
       "      <td>yes</td>\n",
       "      <td>yes</td>\n",
       "      <td>good</td>\n",
       "    </tr>\n",
       "  </tbody>\n",
       "</table>\n",
       "<p>3 rows × 21 columns</p>\n",
       "</div>"
      ],
      "text/plain": [
       "    checking_status  duration                  credit_history  \\\n",
       "482              <0        30                   existing paid   \n",
       "6       no checking        24                   existing paid   \n",
       "36      no checking        48  critical/other existing credit   \n",
       "\n",
       "                 purpose  credit_amount savings_status employment  \\\n",
       "482  furniture/equipment         3622.0         >=1000        >=7   \n",
       "6    furniture/equipment         2835.0    500<=X<1000        >=7   \n",
       "36             education         6110.0           <100     1<=X<4   \n",
       "\n",
       "     installment_commitment     personal_status other_parties  ...  \\\n",
       "482                       4  female div/dep/mar          none  ...   \n",
       "6                         3         male single          none  ...   \n",
       "36                        1         male single          none  ...   \n",
       "\n",
       "     property_magnitude age  other_payment_plans   housing existing_credits  \\\n",
       "482      life insurance  57                 none      rent                2   \n",
       "6        life insurance  53                 none       own                1   \n",
       "36    no known property  31                 bank  for free                1   \n",
       "\n",
       "         job num_dependents  own_telephone foreign_worker target  \n",
       "482  skilled              1            yes            yes   good  \n",
       "6    skilled              1           none            yes   good  \n",
       "36   skilled              1            yes            yes   good  \n",
       "\n",
       "[3 rows x 21 columns]"
      ]
     },
     "execution_count": 3,
     "metadata": {},
     "output_type": "execute_result"
    }
   ],
   "source": [
    "data = fetch_openml(name='credit-g', parser=\"auto\", version=2)\n",
    "df = pd.DataFrame(data=data.data, columns=data.feature_names)\n",
    "df['target'] = data.target\n",
    "\n",
    "df.info()\n",
    "df.sample(3)"
   ]
  },
  {
   "cell_type": "markdown",
   "id": "61d35ca1-994c-48ab-8e9e-45d2b742a331",
   "metadata": {},
   "source": [
    "### Кодирование категориальных признаков"
   ]
  },
  {
   "cell_type": "markdown",
   "id": "ac34369e-7121-461b-8aac-e8a68ee72c94",
   "metadata": {},
   "source": [
    "Выделение категориальных признаков"
   ]
  },
  {
   "cell_type": "code",
   "execution_count": 4,
   "id": "ee3d3c24-a6f8-4bfd-8766-686445e52cad",
   "metadata": {},
   "outputs": [],
   "source": [
    "categorical_features = df.select_dtypes(include='category').columns"
   ]
  },
  {
   "cell_type": "markdown",
   "id": "10146ff4-4d4f-4f0c-9ec0-88b27953e5f3",
   "metadata": {},
   "source": [
    "Кодирование при помощи LabelEncoder"
   ]
  },
  {
   "cell_type": "code",
   "execution_count": 5,
   "id": "17e24615-e654-4d08-9de8-316d8c252208",
   "metadata": {},
   "outputs": [],
   "source": [
    "label_encoder = LabelEncoder()\n",
    "\n",
    "for feature in categorical_features:\n",
    "    df[feature] = label_encoder.fit_transform(df[feature])"
   ]
  },
  {
   "cell_type": "markdown",
   "id": "3223842b-bdb7-4a23-94dd-9a34aa204564",
   "metadata": {},
   "source": [
    "Кодирование при помощи OneHotEncoder"
   ]
  },
  {
   "cell_type": "code",
   "execution_count": 6,
   "id": "1b04de82-1d6d-486b-a9ab-e7d8998cf077",
   "metadata": {},
   "outputs": [],
   "source": [
    "onehot_encoder = OneHotEncoder()\n",
    "\n",
    "encoded_features = onehot_encoder.fit_transform(df[categorical_features])\n",
    "feature_names = onehot_encoder.get_feature_names_out(categorical_features)\n",
    "encoded_df = pd.DataFrame(encoded_features.toarray(), columns=feature_names)\n",
    "df_encoded = pd.concat([df.drop(categorical_features, axis=1), encoded_df], axis=1)"
   ]
  },
  {
   "cell_type": "markdown",
   "id": "1b013513-4055-422c-a9db-82488638019d",
   "metadata": {},
   "source": [
    "### Разделение на выборки"
   ]
  },
  {
   "cell_type": "code",
   "execution_count": 7,
   "id": "f65061e0-f582-4086-b236-3bf7aa69463d",
   "metadata": {},
   "outputs": [
    {
     "data": {
      "text/plain": [
       "((800, 20), (200, 20), (800,), (200,))"
      ]
     },
     "execution_count": 7,
     "metadata": {},
     "output_type": "execute_result"
    }
   ],
   "source": [
    "X = df.drop('target', axis=1)\n",
    "y = df['target']\n",
    "X_train, X_test, y_train, y_test = train_test_split(X, \n",
    "                                                    y, \n",
    "                                                    test_size=0.2, \n",
    "                                                    random_state=42)\n",
    "X_train.shape, X_test.shape, y_train.shape, y_test.shape"
   ]
  },
  {
   "cell_type": "markdown",
   "id": "b58e31c4-6ac8-4d82-a3e9-5ec5f077c2e5",
   "metadata": {},
   "source": [
    "### Масштабирование данных"
   ]
  },
  {
   "cell_type": "code",
   "execution_count": 8,
   "id": "0cff5a7c-1f99-4230-9f17-c9d9fe7fea7a",
   "metadata": {},
   "outputs": [],
   "source": [
    "scaler = StandardScaler()\n",
    "X_train_s = (\n",
    "    pd.DataFrame(\n",
    "        scaler.fit_transform(X_train), \n",
    "        columns=X_train.columns, \n",
    "        index=X_train.index)\n",
    ")\n",
    "X_test_s = (\n",
    "    pd.DataFrame(\n",
    "        scaler.transform(X_test), \n",
    "        columns=X_test.columns, \n",
    "        index=X_test.index)\n",
    ")"
   ]
  },
  {
   "cell_type": "markdown",
   "id": "74d78914-082f-4f6a-8764-9f35c95c924b",
   "metadata": {},
   "source": [
    "### Обучение модели"
   ]
  },
  {
   "cell_type": "markdown",
   "id": "bc02a463-f4cf-4899-881f-1d391fee813c",
   "metadata": {},
   "source": [
    "Признаки без масштабирования"
   ]
  },
  {
   "cell_type": "code",
   "execution_count": 9,
   "id": "d47fb120-0a6f-4d28-9b3e-592384b19da2",
   "metadata": {},
   "outputs": [
    {
     "data": {
      "text/html": [
       "<style>#sk-container-id-1 {color: black;}#sk-container-id-1 pre{padding: 0;}#sk-container-id-1 div.sk-toggleable {background-color: white;}#sk-container-id-1 label.sk-toggleable__label {cursor: pointer;display: block;width: 100%;margin-bottom: 0;padding: 0.3em;box-sizing: border-box;text-align: center;}#sk-container-id-1 label.sk-toggleable__label-arrow:before {content: \"▸\";float: left;margin-right: 0.25em;color: #696969;}#sk-container-id-1 label.sk-toggleable__label-arrow:hover:before {color: black;}#sk-container-id-1 div.sk-estimator:hover label.sk-toggleable__label-arrow:before {color: black;}#sk-container-id-1 div.sk-toggleable__content {max-height: 0;max-width: 0;overflow: hidden;text-align: left;background-color: #f0f8ff;}#sk-container-id-1 div.sk-toggleable__content pre {margin: 0.2em;color: black;border-radius: 0.25em;background-color: #f0f8ff;}#sk-container-id-1 input.sk-toggleable__control:checked~div.sk-toggleable__content {max-height: 200px;max-width: 100%;overflow: auto;}#sk-container-id-1 input.sk-toggleable__control:checked~label.sk-toggleable__label-arrow:before {content: \"▾\";}#sk-container-id-1 div.sk-estimator input.sk-toggleable__control:checked~label.sk-toggleable__label {background-color: #d4ebff;}#sk-container-id-1 div.sk-label input.sk-toggleable__control:checked~label.sk-toggleable__label {background-color: #d4ebff;}#sk-container-id-1 input.sk-hidden--visually {border: 0;clip: rect(1px 1px 1px 1px);clip: rect(1px, 1px, 1px, 1px);height: 1px;margin: -1px;overflow: hidden;padding: 0;position: absolute;width: 1px;}#sk-container-id-1 div.sk-estimator {font-family: monospace;background-color: #f0f8ff;border: 1px dotted black;border-radius: 0.25em;box-sizing: border-box;margin-bottom: 0.5em;}#sk-container-id-1 div.sk-estimator:hover {background-color: #d4ebff;}#sk-container-id-1 div.sk-parallel-item::after {content: \"\";width: 100%;border-bottom: 1px solid gray;flex-grow: 1;}#sk-container-id-1 div.sk-label:hover label.sk-toggleable__label {background-color: #d4ebff;}#sk-container-id-1 div.sk-serial::before {content: \"\";position: absolute;border-left: 1px solid gray;box-sizing: border-box;top: 0;bottom: 0;left: 50%;z-index: 0;}#sk-container-id-1 div.sk-serial {display: flex;flex-direction: column;align-items: center;background-color: white;padding-right: 0.2em;padding-left: 0.2em;position: relative;}#sk-container-id-1 div.sk-item {position: relative;z-index: 1;}#sk-container-id-1 div.sk-parallel {display: flex;align-items: stretch;justify-content: center;background-color: white;position: relative;}#sk-container-id-1 div.sk-item::before, #sk-container-id-1 div.sk-parallel-item::before {content: \"\";position: absolute;border-left: 1px solid gray;box-sizing: border-box;top: 0;bottom: 0;left: 50%;z-index: -1;}#sk-container-id-1 div.sk-parallel-item {display: flex;flex-direction: column;z-index: 1;position: relative;background-color: white;}#sk-container-id-1 div.sk-parallel-item:first-child::after {align-self: flex-end;width: 50%;}#sk-container-id-1 div.sk-parallel-item:last-child::after {align-self: flex-start;width: 50%;}#sk-container-id-1 div.sk-parallel-item:only-child::after {width: 0;}#sk-container-id-1 div.sk-dashed-wrapped {border: 1px dashed gray;margin: 0 0.4em 0.5em 0.4em;box-sizing: border-box;padding-bottom: 0.4em;background-color: white;}#sk-container-id-1 div.sk-label label {font-family: monospace;font-weight: bold;display: inline-block;line-height: 1.2em;}#sk-container-id-1 div.sk-label-container {text-align: center;}#sk-container-id-1 div.sk-container {/* jupyter's `normalize.less` sets `[hidden] { display: none; }` but bootstrap.min.css set `[hidden] { display: none !important; }` so we also need the `!important` here to be able to override the default hidden behavior on the sphinx rendered scikit-learn.org. See: https://github.com/scikit-learn/scikit-learn/issues/21755 */display: inline-block !important;position: relative;}#sk-container-id-1 div.sk-text-repr-fallback {display: none;}</style><div id=\"sk-container-id-1\" class=\"sk-top-container\"><div class=\"sk-text-repr-fallback\"><pre>LogisticRegression(max_iter=1000)</pre><b>In a Jupyter environment, please rerun this cell to show the HTML representation or trust the notebook. <br />On GitHub, the HTML representation is unable to render, please try loading this page with nbviewer.org.</b></div><div class=\"sk-container\" hidden><div class=\"sk-item\"><div class=\"sk-estimator sk-toggleable\"><input class=\"sk-toggleable__control sk-hidden--visually\" id=\"sk-estimator-id-1\" type=\"checkbox\" checked><label for=\"sk-estimator-id-1\" class=\"sk-toggleable__label sk-toggleable__label-arrow\">LogisticRegression</label><div class=\"sk-toggleable__content\"><pre>LogisticRegression(max_iter=1000)</pre></div></div></div></div></div>"
      ],
      "text/plain": [
       "LogisticRegression(max_iter=1000)"
      ]
     },
     "execution_count": 9,
     "metadata": {},
     "output_type": "execute_result"
    }
   ],
   "source": [
    "model = LogisticRegression(max_iter=1000)\n",
    "model.fit(X_train, y_train)"
   ]
  },
  {
   "cell_type": "markdown",
   "id": "c64dbb80-a5a3-41ed-bf2a-f119447afa3a",
   "metadata": {},
   "source": [
    "Масштабированные признаки"
   ]
  },
  {
   "cell_type": "code",
   "execution_count": 10,
   "id": "87fc16a3-e6fe-45b0-8dd2-2c79a23a5b12",
   "metadata": {},
   "outputs": [
    {
     "data": {
      "text/html": [
       "<style>#sk-container-id-2 {color: black;}#sk-container-id-2 pre{padding: 0;}#sk-container-id-2 div.sk-toggleable {background-color: white;}#sk-container-id-2 label.sk-toggleable__label {cursor: pointer;display: block;width: 100%;margin-bottom: 0;padding: 0.3em;box-sizing: border-box;text-align: center;}#sk-container-id-2 label.sk-toggleable__label-arrow:before {content: \"▸\";float: left;margin-right: 0.25em;color: #696969;}#sk-container-id-2 label.sk-toggleable__label-arrow:hover:before {color: black;}#sk-container-id-2 div.sk-estimator:hover label.sk-toggleable__label-arrow:before {color: black;}#sk-container-id-2 div.sk-toggleable__content {max-height: 0;max-width: 0;overflow: hidden;text-align: left;background-color: #f0f8ff;}#sk-container-id-2 div.sk-toggleable__content pre {margin: 0.2em;color: black;border-radius: 0.25em;background-color: #f0f8ff;}#sk-container-id-2 input.sk-toggleable__control:checked~div.sk-toggleable__content {max-height: 200px;max-width: 100%;overflow: auto;}#sk-container-id-2 input.sk-toggleable__control:checked~label.sk-toggleable__label-arrow:before {content: \"▾\";}#sk-container-id-2 div.sk-estimator input.sk-toggleable__control:checked~label.sk-toggleable__label {background-color: #d4ebff;}#sk-container-id-2 div.sk-label input.sk-toggleable__control:checked~label.sk-toggleable__label {background-color: #d4ebff;}#sk-container-id-2 input.sk-hidden--visually {border: 0;clip: rect(1px 1px 1px 1px);clip: rect(1px, 1px, 1px, 1px);height: 1px;margin: -1px;overflow: hidden;padding: 0;position: absolute;width: 1px;}#sk-container-id-2 div.sk-estimator {font-family: monospace;background-color: #f0f8ff;border: 1px dotted black;border-radius: 0.25em;box-sizing: border-box;margin-bottom: 0.5em;}#sk-container-id-2 div.sk-estimator:hover {background-color: #d4ebff;}#sk-container-id-2 div.sk-parallel-item::after {content: \"\";width: 100%;border-bottom: 1px solid gray;flex-grow: 1;}#sk-container-id-2 div.sk-label:hover label.sk-toggleable__label {background-color: #d4ebff;}#sk-container-id-2 div.sk-serial::before {content: \"\";position: absolute;border-left: 1px solid gray;box-sizing: border-box;top: 0;bottom: 0;left: 50%;z-index: 0;}#sk-container-id-2 div.sk-serial {display: flex;flex-direction: column;align-items: center;background-color: white;padding-right: 0.2em;padding-left: 0.2em;position: relative;}#sk-container-id-2 div.sk-item {position: relative;z-index: 1;}#sk-container-id-2 div.sk-parallel {display: flex;align-items: stretch;justify-content: center;background-color: white;position: relative;}#sk-container-id-2 div.sk-item::before, #sk-container-id-2 div.sk-parallel-item::before {content: \"\";position: absolute;border-left: 1px solid gray;box-sizing: border-box;top: 0;bottom: 0;left: 50%;z-index: -1;}#sk-container-id-2 div.sk-parallel-item {display: flex;flex-direction: column;z-index: 1;position: relative;background-color: white;}#sk-container-id-2 div.sk-parallel-item:first-child::after {align-self: flex-end;width: 50%;}#sk-container-id-2 div.sk-parallel-item:last-child::after {align-self: flex-start;width: 50%;}#sk-container-id-2 div.sk-parallel-item:only-child::after {width: 0;}#sk-container-id-2 div.sk-dashed-wrapped {border: 1px dashed gray;margin: 0 0.4em 0.5em 0.4em;box-sizing: border-box;padding-bottom: 0.4em;background-color: white;}#sk-container-id-2 div.sk-label label {font-family: monospace;font-weight: bold;display: inline-block;line-height: 1.2em;}#sk-container-id-2 div.sk-label-container {text-align: center;}#sk-container-id-2 div.sk-container {/* jupyter's `normalize.less` sets `[hidden] { display: none; }` but bootstrap.min.css set `[hidden] { display: none !important; }` so we also need the `!important` here to be able to override the default hidden behavior on the sphinx rendered scikit-learn.org. See: https://github.com/scikit-learn/scikit-learn/issues/21755 */display: inline-block !important;position: relative;}#sk-container-id-2 div.sk-text-repr-fallback {display: none;}</style><div id=\"sk-container-id-2\" class=\"sk-top-container\"><div class=\"sk-text-repr-fallback\"><pre>LogisticRegression(max_iter=1000)</pre><b>In a Jupyter environment, please rerun this cell to show the HTML representation or trust the notebook. <br />On GitHub, the HTML representation is unable to render, please try loading this page with nbviewer.org.</b></div><div class=\"sk-container\" hidden><div class=\"sk-item\"><div class=\"sk-estimator sk-toggleable\"><input class=\"sk-toggleable__control sk-hidden--visually\" id=\"sk-estimator-id-2\" type=\"checkbox\" checked><label for=\"sk-estimator-id-2\" class=\"sk-toggleable__label sk-toggleable__label-arrow\">LogisticRegression</label><div class=\"sk-toggleable__content\"><pre>LogisticRegression(max_iter=1000)</pre></div></div></div></div></div>"
      ],
      "text/plain": [
       "LogisticRegression(max_iter=1000)"
      ]
     },
     "execution_count": 10,
     "metadata": {},
     "output_type": "execute_result"
    }
   ],
   "source": [
    "model_s = LogisticRegression(max_iter=1000)\n",
    "model_s.fit(X_train_s, y_train)"
   ]
  },
  {
   "cell_type": "markdown",
   "id": "3d051d1d-97eb-42b6-ba00-cbb6d371a0c8",
   "metadata": {},
   "source": [
    "### Оценка качества модели"
   ]
  },
  {
   "cell_type": "markdown",
   "id": "ad82971e-12d7-4344-801a-461933b3d643",
   "metadata": {},
   "source": [
    "Признаки без масштабирования"
   ]
  },
  {
   "cell_type": "code",
   "execution_count": 11,
   "id": "44b73cc5-a56a-4e20-857f-e9146ebe2557",
   "metadata": {},
   "outputs": [
    {
     "data": {
      "text/plain": [
       "'accuracy before scaling: 0.71'"
      ]
     },
     "execution_count": 11,
     "metadata": {},
     "output_type": "execute_result"
    }
   ],
   "source": [
    "y_pred = model.predict(X_test)\n",
    "f\"accuracy before scaling: {accuracy_score(y_test, y_pred)}\""
   ]
  },
  {
   "cell_type": "markdown",
   "id": "56e4d1a1-4a10-47f2-b395-26cd48999db2",
   "metadata": {},
   "source": [
    "Масштабированные признаки"
   ]
  },
  {
   "cell_type": "code",
   "execution_count": 12,
   "id": "cd0a54d2-80b8-4ad1-8c19-b04fea034228",
   "metadata": {},
   "outputs": [
    {
     "data": {
      "text/plain": [
       "'accuracy after scaling: 0.73'"
      ]
     },
     "execution_count": 12,
     "metadata": {},
     "output_type": "execute_result"
    }
   ],
   "source": [
    "y_pred_s = model_s.predict(X_test_s)\n",
    "f\"accuracy after scaling: {accuracy_score(y_test, y_pred_s)}\""
   ]
  },
  {
   "cell_type": "markdown",
   "id": "ed524f9e-15bf-4b48-9f46-7af4be16f4f4",
   "metadata": {},
   "source": [
    "### Выявление эффекта от масшатбирования признаков"
   ]
  },
  {
   "cell_type": "code",
   "execution_count": 13,
   "id": "d4389ca5-39f0-4621-b8e2-16a84503072b",
   "metadata": {},
   "outputs": [
    {
     "name": "stdout",
     "output_type": "stream",
     "text": [
      "Accuracy before scaling: 0.71\n",
      "Accuracy after scaling: 0.73\n",
      "Scaling effect percentage: \n",
      "2.82%\n"
     ]
    }
   ],
   "source": [
    "print(f'Accuracy before scaling: {accuracy_score(y_test, y_pred)}')\n",
    "print(f'Accuracy after scaling: {accuracy_score(y_test, y_pred_s)}')\n",
    "print(f\"\"\"Scaling effect percentage: \n",
    "{((accuracy_score(y_test, y_pred_s) - accuracy_score(y_test, y_pred)) \n",
    "  / accuracy_score(y_test, y_pred)) * 100:.2f}%\"\"\")"
   ]
  },
  {
   "cell_type": "markdown",
   "id": "10242a99-1f89-4d8f-b9fe-02c320337151",
   "metadata": {},
   "source": [
    "## Проведение проверки класса"
   ]
  },
  {
   "cell_type": "code",
   "execution_count": 14,
   "id": "9f4eeffd-f15e-4559-99ba-6a2b949b1ad8",
   "metadata": {},
   "outputs": [
    {
     "name": "stdout",
     "output_type": "stream",
     "text": [
      "Accuracy before scaling: 0.71\n",
      "Accuracy after scaling: 0.73\n",
      "Scaling effect percentage: 2.82%\n"
     ]
    }
   ],
   "source": [
    "from data_analysis import CreditDataAnalysis\n",
    "\n",
    "credit_analysis = CreditDataAnalysis()\n",
    "credit_analysis.compare_scaling_effect()"
   ]
  },
  {
   "cell_type": "markdown",
   "id": "26ee482b-f5f1-473a-b831-5c2b2e8ab66f",
   "metadata": {},
   "source": [
    "## Заключение\n",
    "- написан класс CreditDataAnalysis\n",
    "- произведена проверка работоспособности класса"
   ]
  }
 ],
 "metadata": {
  "kernelspec": {
   "display_name": "Python 3 (ipykernel)",
   "language": "python",
   "name": "python3"
  },
  "language_info": {
   "codemirror_mode": {
    "name": "ipython",
    "version": 3
   },
   "file_extension": ".py",
   "mimetype": "text/x-python",
   "name": "python",
   "nbconvert_exporter": "python",
   "pygments_lexer": "ipython3",
   "version": "3.10.12"
  }
 },
 "nbformat": 4,
 "nbformat_minor": 5
}

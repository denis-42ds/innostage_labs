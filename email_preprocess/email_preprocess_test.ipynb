{
 "cells": [
  {
   "cell_type": "markdown",
   "id": "a4f28bcd-5def-4a2b-97c9-8c0bb7be5fc7",
   "metadata": {},
   "source": [
    "### Импорт класса"
   ]
  },
  {
   "cell_type": "code",
   "execution_count": 1,
   "id": "effe0705-bf13-44cb-982d-b0ea80844921",
   "metadata": {},
   "outputs": [
    {
     "ename": "SyntaxError",
     "evalue": "invalid syntax (email_preprocess.py, line 31)",
     "output_type": "error",
     "traceback": [
      "Traceback \u001b[0;36m(most recent call last)\u001b[0m:\n",
      "\u001b[0m  File \u001b[1;32m~/Documents/main_venv/main_venv/lib/python3.10/site-packages/IPython/core/interactiveshell.py:3508\u001b[0m in \u001b[1;35mrun_code\u001b[0m\n    exec(code_obj, self.user_global_ns, self.user_ns)\u001b[0m\n",
      "\u001b[0;36m  Cell \u001b[0;32mIn[1], line 1\u001b[0;36m\n\u001b[0;31m    from email_preprocess import EmailPreprocess\u001b[0;36m\n",
      "\u001b[0;36m  File \u001b[0;32m~/Documents/python_learning/innostage/email_preprocess/email_preprocess.py:31\u001b[0;36m\u001b[0m\n\u001b[0;31m    def feature_selection(self, method=, k=):\u001b[0m\n\u001b[0m                                       ^\u001b[0m\n\u001b[0;31mSyntaxError\u001b[0m\u001b[0;31m:\u001b[0m invalid syntax\n"
     ]
    }
   ],
   "source": [
    "from email_preprocess import EmailPreprocess"
   ]
  }
 ],
 "metadata": {
  "kernelspec": {
   "display_name": "Python 3 (ipykernel)",
   "language": "python",
   "name": "python3"
  },
  "language_info": {
   "codemirror_mode": {
    "name": "ipython",
    "version": 3
   },
   "file_extension": ".py",
   "mimetype": "text/x-python",
   "name": "python",
   "nbconvert_exporter": "python",
   "pygments_lexer": "ipython3",
   "version": "3.10.12"
  }
 },
 "nbformat": 4,
 "nbformat_minor": 5
}

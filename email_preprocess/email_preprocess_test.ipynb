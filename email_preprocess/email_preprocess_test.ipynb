{
 "cells": [
  {
   "cell_type": "markdown",
   "id": "a4f28bcd-5def-4a2b-97c9-8c0bb7be5fc7",
   "metadata": {},
   "source": [
    "## Импорт класса"
   ]
  },
  {
   "cell_type": "code",
   "execution_count": 1,
   "id": "effe0705-bf13-44cb-982d-b0ea80844921",
   "metadata": {},
   "outputs": [],
   "source": [
    "from email_preprocess import EmailPreprocess"
   ]
  },
  {
   "cell_type": "markdown",
   "id": "a29fc248-a00b-41a2-9e03-bb8bb7d64acb",
   "metadata": {},
   "source": [
    "## Создание экземпляра класса EmailPreprocess"
   ]
  },
  {
   "cell_type": "code",
   "execution_count": 2,
   "id": "51c50631-9d1a-4a54-977c-84117a701992",
   "metadata": {},
   "outputs": [],
   "source": [
    "preprocessor = EmailPreprocess(filename='data/emails.csv')"
   ]
  },
  {
   "cell_type": "markdown",
   "id": "bcf22146-a72d-4299-9fd8-106bf6c3bc56",
   "metadata": {},
   "source": [
    "## Загрузка данных"
   ]
  },
  {
   "cell_type": "code",
   "execution_count": 3,
   "id": "144a08ed-4b72-407c-bf03-bfc1b365fdb0",
   "metadata": {},
   "outputs": [
    {
     "name": "stdout",
     "output_type": "stream",
     "text": [
      "Данные загружены\n",
      "<class 'pandas.core.frame.DataFrame'>\n",
      "RangeIndex: 5172 entries, 0 to 5171\n",
      "Columns: 3002 entries, Email No. to Prediction\n",
      "dtypes: int64(3001), object(1)\n",
      "memory usage: 118.5+ MB\n"
     ]
    },
    {
     "data": {
      "text/html": [
       "<div>\n",
       "<style scoped>\n",
       "    .dataframe tbody tr th:only-of-type {\n",
       "        vertical-align: middle;\n",
       "    }\n",
       "\n",
       "    .dataframe tbody tr th {\n",
       "        vertical-align: top;\n",
       "    }\n",
       "\n",
       "    .dataframe thead th {\n",
       "        text-align: right;\n",
       "    }\n",
       "</style>\n",
       "<table border=\"1\" class=\"dataframe\">\n",
       "  <thead>\n",
       "    <tr style=\"text-align: right;\">\n",
       "      <th></th>\n",
       "      <th>Email No.</th>\n",
       "      <th>the</th>\n",
       "      <th>to</th>\n",
       "      <th>ect</th>\n",
       "      <th>and</th>\n",
       "      <th>for</th>\n",
       "      <th>of</th>\n",
       "      <th>a</th>\n",
       "      <th>you</th>\n",
       "      <th>hou</th>\n",
       "      <th>...</th>\n",
       "      <th>connevey</th>\n",
       "      <th>jay</th>\n",
       "      <th>valued</th>\n",
       "      <th>lay</th>\n",
       "      <th>infrastructure</th>\n",
       "      <th>military</th>\n",
       "      <th>allowing</th>\n",
       "      <th>ff</th>\n",
       "      <th>dry</th>\n",
       "      <th>Prediction</th>\n",
       "    </tr>\n",
       "  </thead>\n",
       "  <tbody>\n",
       "    <tr>\n",
       "      <th>2801</th>\n",
       "      <td>Email 2802</td>\n",
       "      <td>4</td>\n",
       "      <td>4</td>\n",
       "      <td>7</td>\n",
       "      <td>0</td>\n",
       "      <td>3</td>\n",
       "      <td>2</td>\n",
       "      <td>31</td>\n",
       "      <td>2</td>\n",
       "      <td>3</td>\n",
       "      <td>...</td>\n",
       "      <td>0</td>\n",
       "      <td>0</td>\n",
       "      <td>0</td>\n",
       "      <td>0</td>\n",
       "      <td>0</td>\n",
       "      <td>0</td>\n",
       "      <td>0</td>\n",
       "      <td>0</td>\n",
       "      <td>0</td>\n",
       "      <td>0</td>\n",
       "    </tr>\n",
       "    <tr>\n",
       "      <th>3668</th>\n",
       "      <td>Email 3669</td>\n",
       "      <td>3</td>\n",
       "      <td>1</td>\n",
       "      <td>1</td>\n",
       "      <td>2</td>\n",
       "      <td>1</td>\n",
       "      <td>0</td>\n",
       "      <td>14</td>\n",
       "      <td>2</td>\n",
       "      <td>0</td>\n",
       "      <td>...</td>\n",
       "      <td>0</td>\n",
       "      <td>0</td>\n",
       "      <td>0</td>\n",
       "      <td>0</td>\n",
       "      <td>0</td>\n",
       "      <td>0</td>\n",
       "      <td>0</td>\n",
       "      <td>0</td>\n",
       "      <td>0</td>\n",
       "      <td>0</td>\n",
       "    </tr>\n",
       "    <tr>\n",
       "      <th>3893</th>\n",
       "      <td>Email 3894</td>\n",
       "      <td>1</td>\n",
       "      <td>3</td>\n",
       "      <td>2</td>\n",
       "      <td>0</td>\n",
       "      <td>0</td>\n",
       "      <td>0</td>\n",
       "      <td>15</td>\n",
       "      <td>2</td>\n",
       "      <td>0</td>\n",
       "      <td>...</td>\n",
       "      <td>0</td>\n",
       "      <td>0</td>\n",
       "      <td>0</td>\n",
       "      <td>0</td>\n",
       "      <td>0</td>\n",
       "      <td>0</td>\n",
       "      <td>0</td>\n",
       "      <td>1</td>\n",
       "      <td>0</td>\n",
       "      <td>1</td>\n",
       "    </tr>\n",
       "  </tbody>\n",
       "</table>\n",
       "<p>3 rows × 3002 columns</p>\n",
       "</div>"
      ],
      "text/plain": [
       "       Email No.  the  to  ect  and  for  of   a  you  hou  ...  connevey  \\\n",
       "2801  Email 2802    4   4    7    0    3   2  31    2    3  ...         0   \n",
       "3668  Email 3669    3   1    1    2    1   0  14    2    0  ...         0   \n",
       "3893  Email 3894    1   3    2    0    0   0  15    2    0  ...         0   \n",
       "\n",
       "      jay  valued  lay  infrastructure  military  allowing  ff  dry  \\\n",
       "2801    0       0    0               0         0         0   0    0   \n",
       "3668    0       0    0               0         0         0   0    0   \n",
       "3893    0       0    0               0         0         0   1    0   \n",
       "\n",
       "      Prediction  \n",
       "2801           0  \n",
       "3668           0  \n",
       "3893           1  \n",
       "\n",
       "[3 rows x 3002 columns]"
      ]
     },
     "execution_count": 3,
     "metadata": {},
     "output_type": "execute_result"
    }
   ],
   "source": [
    "data = preprocessor.load_data()\n",
    "preprocessor.data.info()\n",
    "preprocessor.data.sample(3)"
   ]
  },
  {
   "cell_type": "markdown",
   "id": "1b5e11e1-a23e-459b-88b0-9aa98622430e",
   "metadata": {},
   "source": [
    "Выводы:\n",
    "- в данных 3002 признака\n",
    "- 3001 признак числовой, 1 признак - текстовый"
   ]
  },
  {
   "cell_type": "markdown",
   "id": "7832bb9d-b5f1-4127-a35c-d8752354b015",
   "metadata": {},
   "source": [
    "## Проверка пропусков"
   ]
  },
  {
   "cell_type": "code",
   "execution_count": 4,
   "id": "862e6daf-74f2-45d0-8198-b53a2c2dbfaf",
   "metadata": {},
   "outputs": [
    {
     "name": "stdout",
     "output_type": "stream",
     "text": [
      "Пропусков не обнаружено\n"
     ]
    }
   ],
   "source": [
    "preprocessor.check_missing_values()"
   ]
  },
  {
   "cell_type": "markdown",
   "id": "ddeda76f-5956-4f6f-bf1c-14cc69791caa",
   "metadata": {},
   "source": [
    "## Разделение набора данных на признаки и метки"
   ]
  },
  {
   "cell_type": "code",
   "execution_count": 5,
   "id": "e7e84f8b-55be-4bcb-84b2-d431397c7342",
   "metadata": {},
   "outputs": [
    {
     "name": "stdout",
     "output_type": "stream",
     "text": [
      "Набор данных разделён на признаки и метки\n"
     ]
    },
    {
     "data": {
      "text/plain": [
       "((5172, 3000), (5172,))"
      ]
     },
     "execution_count": 5,
     "metadata": {},
     "output_type": "execute_result"
    }
   ],
   "source": [
    "preprocessor.split_dataset()\n",
    "preprocessor.X.shape, preprocessor.y.shape"
   ]
  },
  {
   "cell_type": "markdown",
   "id": "ad34ad17-ebbe-4a7c-92a2-7756231cf256",
   "metadata": {},
   "source": [
    "## Очищение текстов"
   ]
  },
  {
   "cell_type": "code",
   "execution_count": 6,
   "id": "9922f71e-9491-409e-8b2f-7d1fabb614c5",
   "metadata": {},
   "outputs": [
    {
     "name": "stdout",
     "output_type": "stream",
     "text": [
      "Текст писем очищен от лишних символов, пунктуации и стоп-слов\n"
     ]
    },
    {
     "data": {
      "text/html": [
       "<div>\n",
       "<style scoped>\n",
       "    .dataframe tbody tr th:only-of-type {\n",
       "        vertical-align: middle;\n",
       "    }\n",
       "\n",
       "    .dataframe tbody tr th {\n",
       "        vertical-align: top;\n",
       "    }\n",
       "\n",
       "    .dataframe thead th {\n",
       "        text-align: right;\n",
       "    }\n",
       "</style>\n",
       "<table border=\"1\" class=\"dataframe\">\n",
       "  <thead>\n",
       "    <tr style=\"text-align: right;\">\n",
       "      <th></th>\n",
       "      <th>the</th>\n",
       "      <th>to</th>\n",
       "      <th>ect</th>\n",
       "      <th>and</th>\n",
       "      <th>for</th>\n",
       "      <th>of</th>\n",
       "      <th>a</th>\n",
       "      <th>you</th>\n",
       "      <th>hou</th>\n",
       "      <th>in</th>\n",
       "      <th>...</th>\n",
       "      <th>enhancements</th>\n",
       "      <th>connevey</th>\n",
       "      <th>jay</th>\n",
       "      <th>valued</th>\n",
       "      <th>lay</th>\n",
       "      <th>infrastructure</th>\n",
       "      <th>military</th>\n",
       "      <th>allowing</th>\n",
       "      <th>ff</th>\n",
       "      <th>dry</th>\n",
       "    </tr>\n",
       "  </thead>\n",
       "  <tbody>\n",
       "    <tr>\n",
       "      <th>3652</th>\n",
       "      <td>5</td>\n",
       "      <td>6</td>\n",
       "      <td>11</td>\n",
       "      <td>3</td>\n",
       "      <td>1</td>\n",
       "      <td>4</td>\n",
       "      <td>42</td>\n",
       "      <td>4</td>\n",
       "      <td>5</td>\n",
       "      <td>4</td>\n",
       "      <td>...</td>\n",
       "      <td>0</td>\n",
       "      <td>0</td>\n",
       "      <td>0</td>\n",
       "      <td>0</td>\n",
       "      <td>0</td>\n",
       "      <td>0</td>\n",
       "      <td>0</td>\n",
       "      <td>0</td>\n",
       "      <td>3</td>\n",
       "      <td>0</td>\n",
       "    </tr>\n",
       "    <tr>\n",
       "      <th>1748</th>\n",
       "      <td>0</td>\n",
       "      <td>4</td>\n",
       "      <td>1</td>\n",
       "      <td>0</td>\n",
       "      <td>0</td>\n",
       "      <td>1</td>\n",
       "      <td>7</td>\n",
       "      <td>0</td>\n",
       "      <td>0</td>\n",
       "      <td>4</td>\n",
       "      <td>...</td>\n",
       "      <td>0</td>\n",
       "      <td>0</td>\n",
       "      <td>0</td>\n",
       "      <td>0</td>\n",
       "      <td>0</td>\n",
       "      <td>0</td>\n",
       "      <td>0</td>\n",
       "      <td>0</td>\n",
       "      <td>2</td>\n",
       "      <td>0</td>\n",
       "    </tr>\n",
       "    <tr>\n",
       "      <th>4154</th>\n",
       "      <td>0</td>\n",
       "      <td>5</td>\n",
       "      <td>2</td>\n",
       "      <td>0</td>\n",
       "      <td>2</td>\n",
       "      <td>0</td>\n",
       "      <td>55</td>\n",
       "      <td>0</td>\n",
       "      <td>0</td>\n",
       "      <td>4</td>\n",
       "      <td>...</td>\n",
       "      <td>0</td>\n",
       "      <td>0</td>\n",
       "      <td>0</td>\n",
       "      <td>0</td>\n",
       "      <td>0</td>\n",
       "      <td>0</td>\n",
       "      <td>0</td>\n",
       "      <td>0</td>\n",
       "      <td>0</td>\n",
       "      <td>0</td>\n",
       "    </tr>\n",
       "  </tbody>\n",
       "</table>\n",
       "<p>3 rows × 3000 columns</p>\n",
       "</div>"
      ],
      "text/plain": [
       "      the  to  ect  and  for  of   a  you  hou  in  ...  enhancements  \\\n",
       "3652    5   6   11    3    1   4  42    4    5   4  ...             0   \n",
       "1748    0   4    1    0    0   1   7    0    0   4  ...             0   \n",
       "4154    0   5    2    0    2   0  55    0    0   4  ...             0   \n",
       "\n",
       "      connevey  jay  valued  lay  infrastructure  military  allowing  ff  dry  \n",
       "3652         0    0       0    0               0         0         0   3    0  \n",
       "1748         0    0       0    0               0         0         0   2    0  \n",
       "4154         0    0       0    0               0         0         0   0    0  \n",
       "\n",
       "[3 rows x 3000 columns]"
      ]
     },
     "execution_count": 6,
     "metadata": {},
     "output_type": "execute_result"
    }
   ],
   "source": [
    "preprocessor.text_cleaning()\n",
    "preprocessor.X.sample(3)"
   ]
  },
  {
   "cell_type": "markdown",
   "id": "80fb950d-d15f-490d-ae4a-ea540444db6b",
   "metadata": {},
   "source": [
    "## Масштабирование признаков"
   ]
  },
  {
   "cell_type": "code",
   "execution_count": 7,
   "id": "01425719-032f-4dea-b3d9-cd939b3295f8",
   "metadata": {},
   "outputs": [
    {
     "name": "stdout",
     "output_type": "stream",
     "text": [
      "Произведено масштабирование признаков\n"
     ]
    },
    {
     "data": {
      "text/plain": [
       "array([[-0.56544926, -0.64908256, -0.2938948 , ..., -0.0562853 ,\n",
       "        -0.32904848, -0.07097072],\n",
       "       [ 0.11575699,  0.71450797,  1.33733653, ..., -0.0562853 ,\n",
       "         0.03067224, -0.07097072],\n",
       "       [-0.56544926, -0.64908256, -0.2938948 , ..., -0.0562853 ,\n",
       "        -0.32904848, -0.07097072],\n",
       "       [-0.56544926, -0.12462466,  1.19549033, ..., -0.0562853 ,\n",
       "        -0.32904848, -0.07097072],\n",
       "       [ 0.03060621, -0.01973308,  0.84087482, ..., -0.0562853 ,\n",
       "         0.03067224, -0.07097072]])"
      ]
     },
     "execution_count": 7,
     "metadata": {},
     "output_type": "execute_result"
    }
   ],
   "source": [
    "preprocessor.feature_scaling()\n",
    "preprocessor.X[:5]"
   ]
  },
  {
   "cell_type": "markdown",
   "id": "0b27fe3c-1c7d-4504-b065-ad73c3bba614",
   "metadata": {},
   "source": [
    "## Разделение на обучающий и тестовый наборы данных"
   ]
  },
  {
   "cell_type": "code",
   "execution_count": 8,
   "id": "6be7b940-77a8-4424-bd26-f9946f51e6af",
   "metadata": {},
   "outputs": [
    {
     "name": "stdout",
     "output_type": "stream",
     "text": [
      "Данные разделены на обучающий и тестовый наборы\n"
     ]
    },
    {
     "data": {
      "text/plain": [
       "((4137, 3000), (1035, 3000), (4137,), (1035,))"
      ]
     },
     "execution_count": 8,
     "metadata": {},
     "output_type": "execute_result"
    }
   ],
   "source": [
    "preprocessor.train_test_split()\n",
    "preprocessor.X_train.shape, preprocessor.X_test.shape, preprocessor.y_train.shape, preprocessor.y_test.shape"
   ]
  },
  {
   "cell_type": "markdown",
   "id": "3ff64f52-d997-45d6-ae03-33a72799086b",
   "metadata": {},
   "source": [
    "## Выбор наиболее важных признаков"
   ]
  },
  {
   "cell_type": "code",
   "execution_count": 9,
   "id": "b3784d89-891f-4635-a336-ec6bfdfe50c6",
   "metadata": {},
   "outputs": [
    {
     "name": "stdout",
     "output_type": "stream",
     "text": [
      "Отобраны наиболее значимые признаки\n"
     ]
    },
    {
     "data": {
      "text/plain": [
       "((4137, 10), (1035, 10))"
      ]
     },
     "execution_count": 9,
     "metadata": {},
     "output_type": "execute_result"
    }
   ],
   "source": [
    "preprocessor.feature_selection(method='f_classif', k=10)\n",
    "preprocessor.X_train.shape, preprocessor.X_test.shape"
   ]
  },
  {
   "cell_type": "markdown",
   "id": "aa5da76c-0152-4ded-9ba0-d557902fdae3",
   "metadata": {},
   "source": [
    "## Полная предварительная обработка данных"
   ]
  },
  {
   "cell_type": "code",
   "execution_count": 10,
   "id": "76febbc4-0cca-470c-907d-5192b578b0a1",
   "metadata": {},
   "outputs": [
    {
     "name": "stdout",
     "output_type": "stream",
     "text": [
      "Данные загружены\n",
      "Пропусков не обнаружено\n",
      "Набор данных разделён на признаки и метки\n",
      "Текст писем очищен от лишних символов, пунктуации и стоп-слов\n",
      "Произведено масштабирование признаков\n",
      "Данные разделены на обучающий и тестовый наборы\n",
      "Произведена предварительная обработка данных\n"
     ]
    },
    {
     "data": {
      "text/plain": [
       "((4137, 3000), (1035, 3000))"
      ]
     },
     "execution_count": 10,
     "metadata": {},
     "output_type": "execute_result"
    }
   ],
   "source": [
    "preprocessor.preprocess()\n",
    "preprocessor.X_train.shape, preprocessor.X_test.shape"
   ]
  },
  {
   "cell_type": "markdown",
   "id": "4cb5b1a1-6aea-4e74-9ff6-7ec32f533c6a",
   "metadata": {},
   "source": [
    "## Заключение:\n",
    "- написан класс для предварительной обработки данных;\n",
    "- проверена работоспособность методов данного класса."
   ]
  }
 ],
 "metadata": {
  "kernelspec": {
   "display_name": "Python 3 (ipykernel)",
   "language": "python",
   "name": "python3"
  },
  "language_info": {
   "codemirror_mode": {
    "name": "ipython",
    "version": 3
   },
   "file_extension": ".py",
   "mimetype": "text/x-python",
   "name": "python",
   "nbconvert_exporter": "python",
   "pygments_lexer": "ipython3",
   "version": "3.10.12"
  }
 },
 "nbformat": 4,
 "nbformat_minor": 5
}

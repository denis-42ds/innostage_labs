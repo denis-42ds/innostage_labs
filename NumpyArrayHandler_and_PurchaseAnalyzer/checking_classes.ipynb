{
 "cells": [
  {
   "cell_type": "markdown",
   "id": "983ff0f2-c505-4e61-9748-a514e631a2d4",
   "metadata": {},
   "source": [
    "# Создание и проверка аналитических классов\n",
    "\n",
    "**Задачи** \n",
    "\n",
    "1. Класс для работы с массивом Numpy:\n",
    "  <br>Необходимо написать класс NumpyArrayHandler,\n",
    "  <br>который принимает на вход массив Numpy любой размерности.\n",
    "  <br>Класс должен содержать следующие методы:\n",
    "    - `__init__(self, array: np.ndarray)`: Конструктор класса, который принимает массив Numpy и сохраняет его внутри объекта.\n",
    "    - `get_dimensions(self) - int`: Метод, который возвращает количество размерностей (осей) массива.\n",
    "    - `calculate_sum(self) - float`: Метод, который возвращает сумму всех элементов массива.\n",
    "\n",
    "2. Класс PurchaseAnalyzer, который предназначен для анализа данных\n",
    "  <br>о покупках курсов в CSV-файле с полями name, price и date.\n",
    "  <br>Класс должен выполнять следующие задачи:\n",
    "    - Загрузка данных: Класс должен иметь конструктор, который загружает данные из указанного CSV-файла.\n",
    "    - Отчет о популярных курсах: метод `popular_courses_report(top)`,\n",
    "    <br>который определяет, какие курсы покупаются чаще всего, и выводит топ N (где N равно top) самых популярных курсов.\n",
    "  <br>В этом классе можно использовать Pandas и Matplotlib, если необходимо."
   ]
  },
  {
   "cell_type": "markdown",
   "id": "3b11b955-afc2-4e2a-a514-5062880871c3",
   "metadata": {},
   "source": [
    "## Импорт библиотек"
   ]
  },
  {
   "cell_type": "code",
   "execution_count": 3,
   "id": "2cd0bb7b-e720-4523-bd07-01ba7945c66d",
   "metadata": {},
   "outputs": [],
   "source": [
    "import numpy as np\n",
    "import pandas as pd\n",
    "import matplotlib.pyplot as plt\n",
    "\n",
    "from numpy_array_handler import NumpyArrayHandler\n",
    "from purchase_analyzer import PurchaseAnalyzer"
   ]
  },
  {
   "cell_type": "markdown",
   "id": "65f2dacf-6969-417b-8623-54bb93165df8",
   "metadata": {},
   "source": [
    "## Проверка работоспособности классов"
   ]
  },
  {
   "cell_type": "markdown",
   "id": "9e5b92b7-760f-420f-8d27-f0e16277342a",
   "metadata": {},
   "source": [
    "### Проверка NumpyArrayHandler"
   ]
  },
  {
   "cell_type": "code",
   "execution_count": 4,
   "id": "be216eda-51df-44aa-80a0-02f92b03cf3e",
   "metadata": {},
   "outputs": [
    {
     "name": "stdout",
     "output_type": "stream",
     "text": [
      "Размерность массива: 2\n",
      "Сумма элементов массива: 21\n"
     ]
    }
   ],
   "source": [
    "my_array = np.array([[1, 2, 3], [4, 5, 6]])\n",
    "\n",
    "handler = NumpyArrayHandler(my_array)\n",
    "\n",
    "print(\"Размерность массива:\", handler.get_dimensions())\n",
    "print(\"Сумма элементов массива:\", handler.calculate_sum())"
   ]
  },
  {
   "cell_type": "markdown",
   "id": "ce31004c-c214-4e2b-81ef-badb7e63f8f3",
   "metadata": {},
   "source": [
    "### Проверка PurchaseAnalyzer"
   ]
  },
  {
   "cell_type": "code",
   "execution_count": null,
   "id": "24ab0bf0-9331-4aaf-8746-8789ff0400d2",
   "metadata": {},
   "outputs": [],
   "source": [
    "analyzer = PurchaseAnalyzer('purchases.csv')\n",
    "print(analyzer.popular_courses_report(5))\n",
    "\n",
    "analyzer.plot_popular_courses(5)"
   ]
  },
  {
   "cell_type": "markdown",
   "id": "90faaecd-891f-450f-9399-f6e2bbdc7cab",
   "metadata": {},
   "source": [
    "## Заключение\n",
    "- созданы два класса в отдельных py файлах\n",
    "- проверка показала, что с поставленными задачами <br>написанные классы успешно справляются"
   ]
  }
 ],
 "metadata": {
  "kernelspec": {
   "display_name": "Python 3 (ipykernel)",
   "language": "python",
   "name": "python3"
  },
  "language_info": {
   "codemirror_mode": {
    "name": "ipython",
    "version": 3
   },
   "file_extension": ".py",
   "mimetype": "text/x-python",
   "name": "python",
   "nbconvert_exporter": "python",
   "pygments_lexer": "ipython3",
   "version": "3.10.12"
  }
 },
 "nbformat": 4,
 "nbformat_minor": 5
}

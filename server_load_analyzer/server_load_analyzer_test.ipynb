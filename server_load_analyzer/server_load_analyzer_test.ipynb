{
 "cells": [
  {
   "cell_type": "markdown",
   "id": "8214a176-8cc9-4927-80c3-d24f01881eea",
   "metadata": {},
   "source": [
    "## Проверка работоспособности созданного класса ServerLoadAnalyzer"
   ]
  },
  {
   "cell_type": "markdown",
   "id": "75c8fa38-a944-41c4-bc11-1b0862d1156e",
   "metadata": {},
   "source": [
    "Ход проверки:\n",
    "- Создание экземпляра класса ServerLoadAnalyzer.\n",
    "- Добавление данных о запросах на сервер, используя метод add_request.\n",
    "- Оценка параметра распределения Пуассона за определенный интервал времени с помощью метода estimate_poisson_parameters.\n",
    "- Выведение оценённого параметра λ распределения Пуассона."
   ]
  },
  {
   "cell_type": "markdown",
   "id": "17b83e93-f0c4-477e-be56-dfb0af52d00e",
   "metadata": {},
   "source": [
    "### Импорт библиотек"
   ]
  },
  {
   "cell_type": "code",
   "execution_count": 4,
   "id": "9772d9f1-f6fb-4991-951f-542a1d0ff937",
   "metadata": {},
   "outputs": [],
   "source": [
    "from datetime import datetime, timedelta\n",
    "from ServerLoadAnalyzer import ServerLoadAnalyzer # импорт созданного класса"
   ]
  },
  {
   "cell_type": "markdown",
   "id": "c3aae813-ac47-407b-8aa7-30c3a59deff3",
   "metadata": {},
   "source": [
    "### Тестирование класса ServerLoadAnalyzer"
   ]
  },
  {
   "cell_type": "code",
   "execution_count": 3,
   "id": "0b6e846b-6d97-446a-94a2-925fda45cdd9",
   "metadata": {},
   "outputs": [
    {
     "name": "stdout",
     "output_type": "stream",
     "text": [
      "Оцененный параметр λ распределения Пуассона за последний час: 7.0\n"
     ]
    }
   ],
   "source": [
    "# Создаем экземпляр класса\n",
    "analyzer = ServerLoadAnalyzer()\n",
    "\n",
    "# Добавляем данные о запросах\n",
    "analyzer.add_request(timestamp=datetime(2023, 3, 1, 23, 48, 51), load=5)\n",
    "analyzer.add_request(timestamp=datetime(2023, 3, 2, 0, 48, 51), load=7)\n",
    "analyzer.add_request(timestamp=datetime(2023, 3, 2, 1, 48, 51), load=8)\n",
    "analyzer.add_request(timestamp=datetime(2023, 3, 2, 2, 48, 51), load=6)\n",
    "\n",
    "# Оцениваем параметры распределения Пуассона за последний час\n",
    "poisson_parameters = analyzer.estimate_poisson_parameters(time_delta=3600)\n",
    "print(\"Оцененный параметр λ распределения Пуассона за последний час:\", poisson_parameters[\"lambda\"])"
   ]
  },
  {
   "cell_type": "markdown",
   "id": "b7e5e5e8-ddf2-4934-9700-d0944797da00",
   "metadata": {},
   "source": [
    "### Вывод:\n",
    "- проведено тестирование созданного класса ServerLoadAnalyzer\n",
    "- полученное значение λ соответствует действительности"
   ]
  }
 ],
 "metadata": {
  "kernelspec": {
   "display_name": "Python 3 (ipykernel)",
   "language": "python",
   "name": "python3"
  },
  "language_info": {
   "codemirror_mode": {
    "name": "ipython",
    "version": 3
   },
   "file_extension": ".py",
   "mimetype": "text/x-python",
   "name": "python",
   "nbconvert_exporter": "python",
   "pygments_lexer": "ipython3",
   "version": "3.10.12"
  }
 },
 "nbformat": 4,
 "nbformat_minor": 5
}

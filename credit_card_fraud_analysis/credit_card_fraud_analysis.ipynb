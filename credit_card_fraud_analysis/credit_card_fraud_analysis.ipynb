{
 "cells": [
  {
   "cell_type": "markdown",
   "id": "d16dfe78-210c-42e9-bf66-596c2f73bee0",
   "metadata": {},
   "source": [
    "# Анализ мошенничества с кредитными картами\n",
    "<br>**Описание задачи**\n",
    "<br>Данные представляют собой транзакции, совершенные с помощью кредитных карт в сентябре\n",
    "2013 года европейскими держателями карт. <br>В датасете содержится информация о 284,807\n",
    "транзакциях, включая 492 случая мошенничества, что составляет 0.172% от общего числа\n",
    "транзакций. <br>Данные представлены числовыми переменными, полученными в результате\n",
    "преобразования методом главных компонент (PCA). <br>Оригинальные признаки и подробности о\n",
    "данных не предоставлены из соображений конфиденциальности. <br>Признаки V1-V28 являются\n",
    "результатом PCA, <br>'Time' содержит время в секундах между транзакцией и первой записью,\n",
    "<br>а 'Amount' обозначает сумму транзакции.\n",
    "\n",
    "**Ход решения**\n",
    "\n",
    "1. Корреляционный анализ: \r",
    "     - Рассчитать корреляционную матрицу для числовых переменных\n",
    "    - - Возвращаемый тип данных - numpy массив с размерностью 2.\r\n",
    "2. Проверка статистических гипотез    \r\n",
    "  - Проверить гипотезы, например, о равенстве средних сумм для признако     \r\n",
    "  - Параметры включают признаки для сравнения, критерий проверки (t-test, z-test, kolmogorov-smirnov, fisher) и уровень значимости.\r\n",
    "3. Точечные оценки параметров распределе    я: \r\n",
    "  - Оценить средние и дисперсии для выбранных признаков с использованием метода моментов и метода максимального правдопод    ия. \r\n",
    "  - Возвращаемый тип данных - строка с оценками.\r\n",
    "4. Определение влияния признаков на безопасность тран    кции: \r\n",
    "  - Применить логистическую регрессию для выявления признаков, оказывающих наибольшее влияние на безопасность тра    акций. \r\n",
    "  - Возвращаемый тип данных - список с названиями признаков на основе весов в логистической регрессии, ограниченный top_k параметрами.\r\n",
    "5. Интервальн     оценки: \r\n",
    "  - Рассчитать доверительные интервалы для среднего значения выбранного признака с учетом уровня     ачимости. \r\n",
    "  - Использовать t- или z-статистику в зависимости от размера выборки (подсказка: центральная предельная теорема и з    чение 30). \r\n",
    "  - Возвращаемый тип данных - tuple с интервальной оценкой в формате (lower_bound, upper_bound)."
   ]
  },
  {
   "cell_type": "markdown",
   "id": "b37dad55-e45d-446e-af9f-543137431d58",
   "metadata": {},
   "source": [
    "### Импорт библиотек"
   ]
  },
  {
   "cell_type": "code",
   "execution_count": 1,
   "id": "a303c284-87e8-4d3c-935f-1c8eb0cfa40b",
   "metadata": {},
   "outputs": [],
   "source": [
    "import pandas as pd\n",
    "import numpy as np"
   ]
  },
  {
   "cell_type": "markdown",
   "id": "8cecdef8-5758-4176-a840-ea14829d340d",
   "metadata": {},
   "source": [
    "## Знакомство с данными"
   ]
  },
  {
   "cell_type": "code",
   "execution_count": 4,
   "id": "0099ab6f-dc17-4d77-9d67-32e577e42f1b",
   "metadata": {},
   "outputs": [
    {
     "name": "stdout",
     "output_type": "stream",
     "text": [
      "<class 'pandas.core.frame.DataFrame'>\n",
      "RangeIndex: 284807 entries, 0 to 284806\n",
      "Data columns (total 31 columns):\n",
      " #   Column  Non-Null Count   Dtype  \n",
      "---  ------  --------------   -----  \n",
      " 0   Time    284807 non-null  float64\n",
      " 1   V1      284807 non-null  float64\n",
      " 2   V2      284807 non-null  float64\n",
      " 3   V3      284807 non-null  float64\n",
      " 4   V4      284807 non-null  float64\n",
      " 5   V5      284807 non-null  float64\n",
      " 6   V6      284807 non-null  float64\n",
      " 7   V7      284807 non-null  float64\n",
      " 8   V8      284807 non-null  float64\n",
      " 9   V9      284807 non-null  float64\n",
      " 10  V10     284807 non-null  float64\n",
      " 11  V11     284807 non-null  float64\n",
      " 12  V12     284807 non-null  float64\n",
      " 13  V13     284807 non-null  float64\n",
      " 14  V14     284807 non-null  float64\n",
      " 15  V15     284807 non-null  float64\n",
      " 16  V16     284807 non-null  float64\n",
      " 17  V17     284807 non-null  float64\n",
      " 18  V18     284807 non-null  float64\n",
      " 19  V19     284807 non-null  float64\n",
      " 20  V20     284807 non-null  float64\n",
      " 21  V21     284807 non-null  float64\n",
      " 22  V22     284807 non-null  float64\n",
      " 23  V23     284807 non-null  float64\n",
      " 24  V24     284807 non-null  float64\n",
      " 25  V25     284807 non-null  float64\n",
      " 26  V26     284807 non-null  float64\n",
      " 27  V27     284807 non-null  float64\n",
      " 28  V28     284807 non-null  float64\n",
      " 29  Amount  284807 non-null  float64\n",
      " 30  Class   284807 non-null  int64  \n",
      "dtypes: float64(30), int64(1)\n",
      "memory usage: 67.4 MB\n"
     ]
    },
    {
     "data": {
      "text/html": [
       "<div>\n",
       "<style scoped>\n",
       "    .dataframe tbody tr th:only-of-type {\n",
       "        vertical-align: middle;\n",
       "    }\n",
       "\n",
       "    .dataframe tbody tr th {\n",
       "        vertical-align: top;\n",
       "    }\n",
       "\n",
       "    .dataframe thead th {\n",
       "        text-align: right;\n",
       "    }\n",
       "</style>\n",
       "<table border=\"1\" class=\"dataframe\">\n",
       "  <thead>\n",
       "    <tr style=\"text-align: right;\">\n",
       "      <th></th>\n",
       "      <th>Time</th>\n",
       "      <th>V1</th>\n",
       "      <th>V2</th>\n",
       "      <th>V3</th>\n",
       "      <th>V4</th>\n",
       "      <th>V5</th>\n",
       "      <th>V6</th>\n",
       "      <th>V7</th>\n",
       "      <th>V8</th>\n",
       "      <th>V9</th>\n",
       "      <th>...</th>\n",
       "      <th>V21</th>\n",
       "      <th>V22</th>\n",
       "      <th>V23</th>\n",
       "      <th>V24</th>\n",
       "      <th>V25</th>\n",
       "      <th>V26</th>\n",
       "      <th>V27</th>\n",
       "      <th>V28</th>\n",
       "      <th>Amount</th>\n",
       "      <th>Class</th>\n",
       "    </tr>\n",
       "  </thead>\n",
       "  <tbody>\n",
       "    <tr>\n",
       "      <th>61674</th>\n",
       "      <td>49931.0</td>\n",
       "      <td>-0.626867</td>\n",
       "      <td>1.153389</td>\n",
       "      <td>1.023489</td>\n",
       "      <td>-0.230298</td>\n",
       "      <td>0.301505</td>\n",
       "      <td>-0.014857</td>\n",
       "      <td>0.498235</td>\n",
       "      <td>0.275810</td>\n",
       "      <td>-0.351408</td>\n",
       "      <td>...</td>\n",
       "      <td>-0.244658</td>\n",
       "      <td>-0.596432</td>\n",
       "      <td>-0.019307</td>\n",
       "      <td>-0.380542</td>\n",
       "      <td>-0.189787</td>\n",
       "      <td>0.111337</td>\n",
       "      <td>0.363092</td>\n",
       "      <td>0.137999</td>\n",
       "      <td>8.99</td>\n",
       "      <td>0</td>\n",
       "    </tr>\n",
       "    <tr>\n",
       "      <th>29163</th>\n",
       "      <td>35347.0</td>\n",
       "      <td>-2.557198</td>\n",
       "      <td>-2.173081</td>\n",
       "      <td>2.703097</td>\n",
       "      <td>0.932893</td>\n",
       "      <td>1.223349</td>\n",
       "      <td>-1.353648</td>\n",
       "      <td>-0.549955</td>\n",
       "      <td>0.176163</td>\n",
       "      <td>0.554154</td>\n",
       "      <td>...</td>\n",
       "      <td>0.387662</td>\n",
       "      <td>0.312358</td>\n",
       "      <td>0.416233</td>\n",
       "      <td>0.314071</td>\n",
       "      <td>0.598483</td>\n",
       "      <td>-0.354208</td>\n",
       "      <td>-0.231268</td>\n",
       "      <td>-0.092619</td>\n",
       "      <td>180.00</td>\n",
       "      <td>0</td>\n",
       "    </tr>\n",
       "    <tr>\n",
       "      <th>169277</th>\n",
       "      <td>119612.0</td>\n",
       "      <td>-0.445856</td>\n",
       "      <td>1.480038</td>\n",
       "      <td>-0.829392</td>\n",
       "      <td>-0.658226</td>\n",
       "      <td>0.867111</td>\n",
       "      <td>-0.727818</td>\n",
       "      <td>0.868708</td>\n",
       "      <td>0.024381</td>\n",
       "      <td>0.058156</td>\n",
       "      <td>...</td>\n",
       "      <td>-0.369557</td>\n",
       "      <td>-0.805487</td>\n",
       "      <td>0.066451</td>\n",
       "      <td>0.393816</td>\n",
       "      <td>-0.327703</td>\n",
       "      <td>0.087634</td>\n",
       "      <td>-0.078829</td>\n",
       "      <td>-0.156503</td>\n",
       "      <td>9.12</td>\n",
       "      <td>0</td>\n",
       "    </tr>\n",
       "  </tbody>\n",
       "</table>\n",
       "<p>3 rows × 31 columns</p>\n",
       "</div>"
      ],
      "text/plain": [
       "            Time        V1        V2        V3        V4        V5        V6  \\\n",
       "61674    49931.0 -0.626867  1.153389  1.023489 -0.230298  0.301505 -0.014857   \n",
       "29163    35347.0 -2.557198 -2.173081  2.703097  0.932893  1.223349 -1.353648   \n",
       "169277  119612.0 -0.445856  1.480038 -0.829392 -0.658226  0.867111 -0.727818   \n",
       "\n",
       "              V7        V8        V9  ...       V21       V22       V23  \\\n",
       "61674   0.498235  0.275810 -0.351408  ... -0.244658 -0.596432 -0.019307   \n",
       "29163  -0.549955  0.176163  0.554154  ...  0.387662  0.312358  0.416233   \n",
       "169277  0.868708  0.024381  0.058156  ... -0.369557 -0.805487  0.066451   \n",
       "\n",
       "             V24       V25       V26       V27       V28  Amount  Class  \n",
       "61674  -0.380542 -0.189787  0.111337  0.363092  0.137999    8.99      0  \n",
       "29163   0.314071  0.598483 -0.354208 -0.231268 -0.092619  180.00      0  \n",
       "169277  0.393816 -0.327703  0.087634 -0.078829 -0.156503    9.12      0  \n",
       "\n",
       "[3 rows x 31 columns]"
      ]
     },
     "execution_count": 4,
     "metadata": {},
     "output_type": "execute_result"
    }
   ],
   "source": [
    "df = pd.read_csv('creditcard.csv')\n",
    "df.info()\n",
    "df.sample(3)"
   ]
  },
  {
   "cell_type": "markdown",
   "id": "6e706124-c399-4679-b8e1-871a465d97d9",
   "metadata": {},
   "source": [
    "Соотношение меток в целевом признаке"
   ]
  },
  {
   "cell_type": "code",
   "execution_count": 7,
   "id": "bc86f185-e3d6-4ba0-991b-71b02f3c41db",
   "metadata": {},
   "outputs": [
    {
     "name": "stdout",
     "output_type": "stream",
     "text": [
      "Class\n",
      "0    284315\n",
      "1       492\n",
      "Name: count, dtype: int64\n"
     ]
    },
    {
     "data": {
      "text/plain": [
       "0.0017304750013189597"
      ]
     },
     "execution_count": 7,
     "metadata": {},
     "output_type": "execute_result"
    }
   ],
   "source": [
    "print(df['Class'].value_counts())\n",
    "df['Class'].value_counts()[1] / df['Class'].value_counts()[0]"
   ]
  },
  {
   "cell_type": "markdown",
   "id": "6c0a62ac-4553-40f5-99f2-f95b12b4dd28",
   "metadata": {},
   "source": [
    "## EDA"
   ]
  },
  {
   "cell_type": "code",
   "execution_count": null,
   "id": "87f3d9dd-9729-4662-9b69-9a3000d8b809",
   "metadata": {},
   "outputs": [],
   "source": []
  }
 ],
 "metadata": {
  "kernelspec": {
   "display_name": "Python 3 (ipykernel)",
   "language": "python",
   "name": "python3"
  },
  "language_info": {
   "codemirror_mode": {
    "name": "ipython",
    "version": 3
   },
   "file_extension": ".py",
   "mimetype": "text/x-python",
   "name": "python",
   "nbconvert_exporter": "python",
   "pygments_lexer": "ipython3",
   "version": "3.10.12"
  }
 },
 "nbformat": 4,
 "nbformat_minor": 5
}
